{
 "cells": [
  {
   "cell_type": "markdown",
   "id": "b2f54280",
   "metadata": {},
   "source": [
    "# Analyzing Character Archetypes in TV Shows and Movies\n",
    "\n",
    "This project involves fine-tuning a pre-trained language model to classify character descriptions into archetypes such as \"hero,\" \"sidekick,\" \"mentor,\" and \"villain.\" Using Hugging Face's Transformers and a custom dataset, the model is trained to predict the archetype of a character based on a brief description. The project showcases text classification using NLP and can be deployed for users to classify new character descriptions automatically."
   ]
  },
  {
   "cell_type": "markdown",
   "id": "bdff07e8",
   "metadata": {},
   "source": [
    "### Prototype"
   ]
  },
  {
   "cell_type": "code",
   "execution_count": 10,
   "id": "85afcf62",
   "metadata": {},
   "outputs": [],
   "source": [
    "from transformers import pipeline "
   ]
  },
  {
   "cell_type": "code",
   "execution_count": 28,
   "id": "c4369ae4",
   "metadata": {},
   "outputs": [],
   "source": [
    "archetypes = [\"Warrior\", \"Child\", \"Orphan\", \"Creator\", \"Caregiver\", \"Mentor\", \"Joker\", \"Magician\", \"Ruler\", \"Rebel\", \"Lover\", \"Seducer\"]\n",
    "\n",
    "classifier = pipeline(\"zero-shot-classification\", model=\"facebook/bart-large-mnli\")\n",
    "\n",
    "def prototype_classify_character(character_description):\n",
    "    result = classifier(character_description, candidate_labels=archetypes)\n",
    "    return result['labels'][0]  # Return the highest scoring archetype"
   ]
  },
  {
   "cell_type": "code",
   "execution_count": 29,
   "id": "110d13a5",
   "metadata": {},
   "outputs": [],
   "source": [
    "# Now try on an example\n",
    "character_description =\\\n",
    "\"\"\"\n",
    "Samwise Gamgee from The Lord of the Rings is a loyal, steadfast companion to Frodo Baggins. \n",
    "He begins as a humble gardener but proves to be one of the most courageous and selfless characters in the story. \n",
    "Despite being seemingly ordinary, Sam consistently demonstrates extraordinary bravery, especially when supporting \n",
    "Frodo on their perilous journey to destroy the One Ring. His deep sense of duty, unwavering friendship, and determination \n",
    "keep him by Frodo’s side, even in the darkest moments, making him a true hero in his own right, despite never seeking fame \n",
    "or glory.\n",
    "\"\"\""
   ]
  },
  {
   "cell_type": "code",
   "execution_count": 30,
   "id": "dfc4342e",
   "metadata": {},
   "outputs": [
    {
     "name": "stdout",
     "output_type": "stream",
     "text": [
      "The character's archetype is: Caregiver\n"
     ]
    }
   ],
   "source": [
    "archetype = prototype_classify_character(character_description)\n",
    "print(f\"The character's archetype is: {archetype}\")"
   ]
  },
  {
   "cell_type": "markdown",
   "id": "b5614d56",
   "metadata": {},
   "source": [
    "### Dataset Collection"
   ]
  },
  {
   "cell_type": "code",
   "execution_count": 2,
   "id": "985a7b64",
   "metadata": {},
   "outputs": [],
   "source": [
    "from datasets import load_dataset"
   ]
  },
  {
   "cell_type": "code",
   "execution_count": 6,
   "id": "7427cb7a",
   "metadata": {
    "scrolled": true
   },
   "outputs": [
    {
     "name": "stderr",
     "output_type": "stream",
     "text": [
      "Downloading readme: 100%|█████████████████████████████████████████████████████████████████████| 372/372 [00:00<?, ?B/s]\n",
      "Downloading data files:   0%|                                                                    | 0/1 [00:00<?, ?it/s]\n",
      "Downloading data:   0%|                                                                    | 0.00/15.5M [00:00<?, ?B/s]\u001b[A\n",
      "Downloading data:  27%|███████████████▉                                           | 4.19M/15.5M [00:03<00:08, 1.28MB/s]\u001b[A\n",
      "Downloading data: 100%|███████████████████████████████████████████████████████████| 15.5M/15.5M [00:04<00:00, 3.38MB/s]\u001b[A\n",
      "Downloading data files: 100%|████████████████████████████████████████████████████████████| 1/1 [00:04<00:00,  4.58s/it]\n",
      "Extracting data files: 100%|█████████████████████████████████████████████████████████████| 1/1 [00:00<00:00, 89.51it/s]\n",
      "Generating train split: 100%|████████████████████████████████████████████████| 150/150 [00:00<00:00, 810.67 examples/s]\n"
     ]
    }
   ],
   "source": []
  },
  {
   "cell_type": "code",
   "execution_count": null,
   "id": "2acfc652",
   "metadata": {},
   "outputs": [],
   "source": []
  }
 ],
 "metadata": {
  "kernelspec": {
   "display_name": "Python 3 (ipykernel)",
   "language": "python",
   "name": "python3"
  },
  "language_info": {
   "codemirror_mode": {
    "name": "ipython",
    "version": 3
   },
   "file_extension": ".py",
   "mimetype": "text/x-python",
   "name": "python",
   "nbconvert_exporter": "python",
   "pygments_lexer": "ipython3",
   "version": "3.11.5"
  }
 },
 "nbformat": 4,
 "nbformat_minor": 5
}
