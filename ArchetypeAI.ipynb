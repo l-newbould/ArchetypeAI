{
 "cells": [
  {
   "cell_type": "markdown",
   "id": "6e26a41b",
   "metadata": {},
   "source": [
    "# Analyzing Character Archetypes in TV Shows and Movies\n",
    "\n",
    "This project involves fine-tuning a pre-trained language model to classify character descriptions into archetypes such as \"hero,\" \"sidekick,\" \"mentor,\" and \"villain.\" Using Hugging Face's Transformers and a custom dataset, the model is trained to predict the archetype of a character based on a brief description. The project showcases text classification using NLP and can be deployed for users to classify new character descriptions automatically."
   ]
  },
  {
   "cell_type": "markdown",
   "id": "5d6767c1",
   "metadata": {},
   "source": [
    "### Prototype"
   ]
  },
  {
   "cell_type": "code",
   "execution_count": 10,
   "id": "1b5ee8f6",
   "metadata": {},
   "outputs": [],
   "source": [
    "from transformers import pipeline "
   ]
  },
  {
   "cell_type": "code",
   "execution_count": 28,
   "id": "72765539",
   "metadata": {},
   "outputs": [],
   "source": [
    "archetypes = [\"Warrior\", \"Child\", \"Orphan\", \"Creator\", \"Caregiver\", \"Mentor\", \"Joker\", \"Magician\", \"Ruler\", \"Rebel\", \"Lover\", \"Seducer\"]\n",
    "\n",
    "classifier = pipeline(\"zero-shot-classification\", model=\"facebook/bart-large-mnli\")\n",
    "\n",
    "def prototype_classify_character(character_description):\n",
    "    result = classifier(character_description, candidate_labels=archetypes)\n",
    "    return result['labels'][0]  # Return the highest scoring archetype"
   ]
  },
  {
   "cell_type": "code",
   "execution_count": 29,
   "id": "9ef53507",
   "metadata": {},
   "outputs": [],
   "source": [
    "# Now try on an example\n",
    "character_description =\\\n",
    "\"\"\"\n",
    "Samwise Gamgee from The Lord of the Rings is a loyal, steadfast companion to Frodo Baggins. \n",
    "He begins as a humble gardener but proves to be one of the most courageous and selfless characters in the story. \n",
    "Despite being seemingly ordinary, Sam consistently demonstrates extraordinary bravery, especially when supporting \n",
    "Frodo on their perilous journey to destroy the One Ring. His deep sense of duty, unwavering friendship, and determination \n",
    "keep him by Frodo’s side, even in the darkest moments, making him a true hero in his own right, despite never seeking fame \n",
    "or glory.\n",
    "\"\"\""
   ]
  },
  {
   "cell_type": "code",
   "execution_count": 30,
   "id": "e68b773e",
   "metadata": {},
   "outputs": [
    {
     "name": "stdout",
     "output_type": "stream",
     "text": [
      "The character's archetype is: Caregiver\n"
     ]
    }
   ],
   "source": [
    "archetype = prototype_classify_character(character_description)\n",
    "print(f\"The character's archetype is: {archetype}\")"
   ]
  },
  {
   "cell_type": "markdown",
   "id": "2c2a67dc",
   "metadata": {},
   "source": [
    "### Dataset"
   ]
  },
  {
   "cell_type": "code",
   "execution_count": 31,
   "id": "e589ebf5",
   "metadata": {},
   "outputs": [],
   "source": [
    "import pandas as pd"
   ]
  },
  {
   "cell_type": "code",
   "execution_count": 32,
   "id": "28deba4a",
   "metadata": {},
   "outputs": [],
   "source": [
    "arch_data = pd.read_csv(\"archetype_data.csv\")"
   ]
  },
  {
   "cell_type": "code",
   "execution_count": null,
   "id": "1b239eaf",
   "metadata": {},
   "outputs": [],
   "source": []
  }
 ],
 "metadata": {
  "kernelspec": {
   "display_name": "Python 3 (ipykernel)",
   "language": "python",
   "name": "python3"
  },
  "language_info": {
   "codemirror_mode": {
    "name": "ipython",
    "version": 3
   },
   "file_extension": ".py",
   "mimetype": "text/x-python",
   "name": "python",
   "nbconvert_exporter": "python",
   "pygments_lexer": "ipython3",
   "version": "3.11.5"
  }
 },
 "nbformat": 4,
 "nbformat_minor": 5
}
