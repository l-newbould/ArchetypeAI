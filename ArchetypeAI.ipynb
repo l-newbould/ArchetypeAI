{
 "cells": [
  {
   "cell_type": "markdown",
   "id": "32d8c214",
   "metadata": {},
   "source": [
    "# Analyzing Character Archetypes in TV Shows and Movies\n",
    "\n",
    "This project involves fine-tuning a pre-trained language model to classify character descriptions into archetypes such as \"hero,\" \"sidekick,\" \"mentor,\" and \"villain.\" Using Hugging Face's Transformers and a custom dataset, the model is trained to predict the archetype of a character based on a brief description. The project showcases text classification using NLP and can be deployed for users to classify new character descriptions automatically."
   ]
  },
  {
   "cell_type": "markdown",
   "id": "e9486922",
   "metadata": {},
   "source": [
    "### Prototype"
   ]
  },
  {
   "cell_type": "code",
   "execution_count": 10,
   "id": "b7c932c4",
   "metadata": {},
   "outputs": [],
   "source": [
    "from transformers import pipeline "
   ]
  },
  {
   "cell_type": "code",
   "execution_count": 28,
   "id": "72278f93",
   "metadata": {},
   "outputs": [],
   "source": [
    "archetypes = [\"Warrior\", \"Child\", \"Orphan\", \"Creator\", \"Caregiver\", \"Mentor\", \"Joker\", \"Magician\", \"Ruler\", \"Rebel\", \"Lover\", \"Seducer\"]\n",
    "\n",
    "classifier = pipeline(\"zero-shot-classification\", model=\"facebook/bart-large-mnli\")\n",
    "\n",
    "def prototype_classify_character(character_description):\n",
    "    result = classifier(character_description, candidate_labels=archetypes)\n",
    "    return result['labels'][0]  # Return the highest scoring archetype"
   ]
  },
  {
   "cell_type": "code",
   "execution_count": 29,
   "id": "4cb324eb",
   "metadata": {},
   "outputs": [],
   "source": [
    "# Now try on an example\n",
    "character_description =\\\n",
    "\"\"\"\n",
    "Samwise Gamgee from The Lord of the Rings is a loyal, steadfast companion to Frodo Baggins. \n",
    "He begins as a humble gardener but proves to be one of the most courageous and selfless characters in the story. \n",
    "Despite being seemingly ordinary, Sam consistently demonstrates extraordinary bravery, especially when supporting \n",
    "Frodo on their perilous journey to destroy the One Ring. His deep sense of duty, unwavering friendship, and determination \n",
    "keep him by Frodo’s side, even in the darkest moments, making him a true hero in his own right, despite never seeking fame \n",
    "or glory.\n",
    "\"\"\""
   ]
  },
  {
   "cell_type": "code",
   "execution_count": 30,
   "id": "8cebe73d",
   "metadata": {},
   "outputs": [
    {
     "name": "stdout",
     "output_type": "stream",
     "text": [
      "The character's archetype is: Caregiver\n"
     ]
    }
   ],
   "source": [
    "archetype = prototype_classify_character(character_description)\n",
    "print(f\"The character's archetype is: {archetype}\")"
   ]
  },
  {
   "cell_type": "markdown",
   "id": "8e55607e",
   "metadata": {},
   "source": [
    "### Load dataset"
   ]
  },
  {
   "cell_type": "code",
   "execution_count": 54,
   "id": "58be161f",
   "metadata": {},
   "outputs": [],
   "source": [
    "import pandas as pd\n",
    "from sklearn.model_selection import train_test_split\n",
    "from sklearn.preprocessing import LabelEncoder\n",
    "import datasets "
   ]
  },
  {
   "cell_type": "code",
   "execution_count": 32,
   "id": "a8a2279d",
   "metadata": {},
   "outputs": [],
   "source": [
    "arch_data = pd.read_csv(\"archetype_data.csv\")"
   ]
  },
  {
   "cell_type": "code",
   "execution_count": 33,
   "id": "80fa0c2f",
   "metadata": {},
   "outputs": [
    {
     "data": {
      "text/html": [
       "<div>\n",
       "<style scoped>\n",
       "    .dataframe tbody tr th:only-of-type {\n",
       "        vertical-align: middle;\n",
       "    }\n",
       "\n",
       "    .dataframe tbody tr th {\n",
       "        vertical-align: top;\n",
       "    }\n",
       "\n",
       "    .dataframe thead th {\n",
       "        text-align: right;\n",
       "    }\n",
       "</style>\n",
       "<table border=\"1\" class=\"dataframe\">\n",
       "  <thead>\n",
       "    <tr style=\"text-align: right;\">\n",
       "      <th></th>\n",
       "      <th>description</th>\n",
       "      <th>archetype</th>\n",
       "    </tr>\n",
       "  </thead>\n",
       "  <tbody>\n",
       "    <tr>\n",
       "      <th>0</th>\n",
       "      <td>A decorated general who leads an army into bat...</td>\n",
       "      <td>warrior</td>\n",
       "    </tr>\n",
       "    <tr>\n",
       "      <th>1</th>\n",
       "      <td>A skilled mercenary who takes on dangerous mis...</td>\n",
       "      <td>warrior</td>\n",
       "    </tr>\n",
       "    <tr>\n",
       "      <th>2</th>\n",
       "      <td>A young knight eager to prove themselves on th...</td>\n",
       "      <td>warrior</td>\n",
       "    </tr>\n",
       "    <tr>\n",
       "      <th>3</th>\n",
       "      <td>A seasoned veteran who commands a group of sol...</td>\n",
       "      <td>warrior</td>\n",
       "    </tr>\n",
       "    <tr>\n",
       "      <th>4</th>\n",
       "      <td>A fearless bounty hunter with a reputation for...</td>\n",
       "      <td>warrior</td>\n",
       "    </tr>\n",
       "  </tbody>\n",
       "</table>\n",
       "</div>"
      ],
      "text/plain": [
       "                                         description archetype\n",
       "0  A decorated general who leads an army into bat...   warrior\n",
       "1  A skilled mercenary who takes on dangerous mis...   warrior\n",
       "2  A young knight eager to prove themselves on th...   warrior\n",
       "3  A seasoned veteran who commands a group of sol...   warrior\n",
       "4  A fearless bounty hunter with a reputation for...   warrior"
      ]
     },
     "execution_count": 33,
     "metadata": {},
     "output_type": "execute_result"
    }
   ],
   "source": [
    "arch_data.head()"
   ]
  },
  {
   "cell_type": "code",
   "execution_count": 34,
   "id": "6300e2f7",
   "metadata": {},
   "outputs": [
    {
     "data": {
      "text/plain": [
       "'A decorated general who leads an army into battle, renowned for their tactical genius and unshakeable confidence.'"
      ]
     },
     "execution_count": 34,
     "metadata": {},
     "output_type": "execute_result"
    }
   ],
   "source": [
    "arch_data['description'][0]"
   ]
  },
  {
   "cell_type": "code",
   "execution_count": 35,
   "id": "4153c786",
   "metadata": {},
   "outputs": [
    {
     "data": {
      "text/plain": [
       "<Axes: xlabel='archetype'>"
      ]
     },
     "execution_count": 35,
     "metadata": {},
     "output_type": "execute_result"
    },
    {
     "data": {
      "image/png": "[encoded data removed]",
      "text/plain": [
       "<Figure size 640x480 with 1 Axes>"
      ]
     },
     "metadata": {},
     "output_type": "display_data"
    }
   ],
   "source": [
    "arch_data['archetype'].value_counts().plot(kind=\"bar\")"
   ]
  },
  {
   "cell_type": "code",
   "execution_count": 49,
   "id": "00ef70a7",
   "metadata": {},
   "outputs": [],
   "source": [
    "arch_data['arch_int'] = LabelEncoder().fit_transform(arch_data['archetype'])"
   ]
  },
  {
   "cell_type": "code",
   "execution_count": 66,
   "id": "3af32858",
   "metadata": {},
   "outputs": [
    {
     "data": {
      "text/plain": [
       "<Axes: xlabel='arch_int'>"
      ]
     },
     "execution_count": 66,
     "metadata": {},
     "output_type": "execute_result"
    },
    {
     "data": {
      "image/png": "[encoded data removed]",
      "text/plain": [
       "<Figure size 640x480 with 1 Axes>"
      ]
     },
     "metadata": {},
     "output_type": "display_data"
    }
   ],
   "source": [
    "arch_data['arch_int'].value_counts().plot(kind=\"bar\")"
   ]
  },
  {
   "cell_type": "code",
   "execution_count": 55,
   "id": "72ea2742",
   "metadata": {},
   "outputs": [],
   "source": [
    "train_split, test_split = train_test_split(arch_data, train_size = 0.8)\n",
    "\n",
    "train_df = pd.DataFrame({\n",
    "    \"label\": train_split.arch_int.values,\n",
    "    \"text\": train_split.description.values\n",
    "})\n",
    "train_df = datasets.Dataset.from_dict(train_df)\n",
    "\n",
    "test_df = pd.DataFrame({\n",
    "    \"label\": test_split.arch_int.values,\n",
    "    \"text\": test_split.description.values\n",
    "})\n",
    "test_df = datasets.Dataset.from_dict(test_df)\n",
    "\n",
    "dataset_dict = datasets.DatasetDict({\"train\":train_df, \"test\":test_df})"
   ]
  },
  {
   "cell_type": "markdown",
   "id": "6a5ec50f",
   "metadata": {},
   "source": [
    "### Preprocess data"
   ]
  },
  {
   "cell_type": "code",
   "execution_count": 36,
   "id": "d39b615e",
   "metadata": {},
   "outputs": [],
   "source": [
    "from transformers import AutoTokenizer"
   ]
  },
  {
   "cell_type": "code",
   "execution_count": 37,
   "id": "6dc99447",
   "metadata": {},
   "outputs": [
    {
     "name": "stderr",
     "output_type": "stream",
     "text": [
      "Downloading tokenizer_config.json: 100%|████████████████████████████████████████████| 48.0/48.0 [00:00<00:00, 48.0kB/s]\n",
      "Downloading config.json: 100%|████████████████████████████████████████████████████████████████| 483/483 [00:00<?, ?B/s]\n",
      "Downloading vocab.txt: 100%|████████████████████████████████████████████████████████| 232k/232k [00:00<00:00, 2.87MB/s]\n",
      "Downloading tokenizer.json: 100%|███████████████████████████████████████████████████| 466k/466k [00:00<00:00, 2.18MB/s]\n"
     ]
    }
   ],
   "source": [
    "tokenizer = AutoTokenizer.from_pretrained(\"distilbert/distilbert-base-uncased\")"
   ]
  },
  {
   "cell_type": "code",
   "execution_count": 57,
   "id": "63153726",
   "metadata": {},
   "outputs": [],
   "source": [
    "def preprocess_function(examples):\n",
    "    return tokenizer(examples[\"text\"], truncation=True)"
   ]
  },
  {
   "cell_type": "code",
   "execution_count": 61,
   "id": "d7b58463",
   "metadata": {},
   "outputs": [
    {
     "name": "stderr",
     "output_type": "stream",
     "text": [
      "Map: 100%|██████████████████████████████████████████████████████████████████| 294/294 [00:00<00:00, 8728.36 examples/s]\n",
      "Map: 100%|████████████████████████████████████████████████████████████████████| 74/74 [00:00<00:00, 8144.49 examples/s]\n"
     ]
    }
   ],
   "source": [
    "tokenized_data = dataset_dict.map(preprocess_function, batched=True)"
   ]
  },
  {
   "cell_type": "markdown",
   "id": "380f1139",
   "metadata": {},
   "source": [
    "### Train model"
   ]
  },
  {
   "cell_type": "code",
   "execution_count": 69,
   "id": "6c231cd7",
   "metadata": {},
   "outputs": [],
   "source": [
    "import evaluate\n",
    "import numpy as np\n",
    "from transformers import AutoModelForSequenceClassification, TrainingArguments, Trainer"
   ]
  },
  {
   "cell_type": "code",
   "execution_count": 63,
   "id": "df33daa1",
   "metadata": {},
   "outputs": [],
   "source": [
    "accuracy = evaluate.load(\"accuracy\")"
   ]
  },
  {
   "cell_type": "code",
   "execution_count": 65,
   "id": "e342ddba",
   "metadata": {},
   "outputs": [],
   "source": [
    "def compute_metrics(eval_pred):\n",
    "    predictions, labels = eval_pred\n",
    "    predictions = np.argmax(predictions, axis=1)\n",
    "    return accuracy.compute(predictions=predictions, references=labels)"
   ]
  },
  {
   "cell_type": "code",
   "execution_count": 67,
   "id": "c69fc2ce",
   "metadata": {},
   "outputs": [],
   "source": [
    "id2label = {\n",
    "    0: \"Caregiver\",\n",
    "    1: \"Child\",\n",
    "    2: \"Creator\",\n",
    "    3: \"Joker\",\n",
    "    4: \"Lover\",\n",
    "    5: \"Magician\",\n",
    "    6: \"Mentor\",\n",
    "    7: \"Orphan\",\n",
    "    8: \"Rebel\",\n",
    "    9: \"Ruler\",\n",
    "    10: \"Seducer\",\n",
    "    11: \"Warrior\"\n",
    "}"
   ]
  },
  {
   "cell_type": "code",
   "execution_count": 68,
   "id": "dfbfb024",
   "metadata": {},
   "outputs": [],
   "source": [
    "label2id = {\n",
    "    \"Caregiver\": 0,\n",
    "    \"Child\": 1,\n",
    "    \"Creator\": 2,\n",
    "    \"Joker\": 3,\n",
    "    \"Lover\": 4,\n",
    "    \"Magician\": 5,\n",
    "    \"Mentor\": 6,\n",
    "    \"Orphan\": 7,\n",
    "    \"Rebel\": 8,\n",
    "    \"Ruler\": 9,\n",
    "    \"Seducer\": 10,\n",
    "    \"Warrior\": 11\n",
    "}"
   ]
  },
  {
   "cell_type": "code",
   "execution_count": null,
   "id": "a91112cf",
   "metadata": {},
   "outputs": [],
   "source": [
    "model = AutoModelForSequenceClassification.from_pretrained(\n",
    "    \"distilbert/distilbert-base-uncased\", num_labels=12, id2label=id2label, label2id=label2id\n",
    ")"
   ]
  }
 ],
 "metadata": {
  "kernelspec": {
   "display_name": "Python 3 (ipykernel)",
   "language": "python",
   "name": "python3"
  },
  "language_info": {
   "codemirror_mode": {
    "name": "ipython",
    "version": 3
   },
   "file_extension": ".py",
   "mimetype": "text/x-python",
   "name": "python",
   "nbconvert_exporter": "python",
   "pygments_lexer": "ipython3",
   "version": "3.11.5"
  }
 },
 "nbformat": 4,
 "nbformat_minor": 5
}
